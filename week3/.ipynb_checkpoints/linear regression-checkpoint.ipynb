{
 "cells": [
  {
   "cell_type": "markdown",
   "metadata": {},
   "source": [
    "### 1. Reorganize Linear Regression in Python mode.\n",
    "\n",
    "主要是通过矩阵运算,代替掉程序中原有的for循环,可以大大减小程序运行时间"
   ]
  },
  {
   "cell_type": "code",
   "execution_count": 10,
   "metadata": {},
   "outputs": [],
   "source": [
    "import numpy as np\n",
    "import random"
   ]
  },
  {
   "cell_type": "code",
   "execution_count": 11,
   "metadata": {},
   "outputs": [],
   "source": [
    "def inference(w, b, x):        # inference, test, predict, same thing. Run model after training\n",
    "    pred_y = w * x + b\n",
    "    return pred_y"
   ]
  },
  {
   "cell_type": "code",
   "execution_count": 12,
   "metadata": {},
   "outputs": [],
   "source": [
    "def eval_loss(w, b, x_list, gt_y_list):\n",
    "#     avg_loss = 0.0\n",
    "#     for i in range(len(x_list)):\n",
    "#         avg_loss += 0.5 * (w * x_list[i] + b - gt_y_list[i]) ** 2    # loss function\n",
    "#     avg_loss /= len(gt_y_list)\n",
    "    y_hat = w*x_list+b\n",
    "    avg_loss = np.dot((y_hat-gt_y_list),(y_hat-gt_y_list).T)/x_list.shape[1]\n",
    "    return avg_loss"
   ]
  },
  {
   "cell_type": "code",
   "execution_count": 13,
   "metadata": {},
   "outputs": [],
   "source": [
    "def gradient(pred_y, gt_y, x):\n",
    "    diff = pred_y - gt_y\n",
    "    dw = np.dot(diff,x.T)\n",
    "    db = np.sum(diff)\n",
    "    return dw, db"
   ]
  },
  {
   "cell_type": "code",
   "execution_count": 14,
   "metadata": {},
   "outputs": [],
   "source": [
    "def cal_step_gradient(batch_x_list, batch_gt_y_list, w, b, lr):\n",
    "#     batch_size = len(batch_x_list)\n",
    "    batch_size = batch_x_list.shape[1]\n",
    "    #print(bat)\n",
    "#     for i in range(batch_size):\n",
    "#         pred_y = inference(w, b, batch_x_list[i])\t# get label data\n",
    "#         dw, db = gradient(pred_y, batch_gt_y_list[i], batch_x_list[i])\n",
    "#         avg_dw += dw\n",
    "#         avg_db += db\n",
    "    pred_y = inference(w,b,batch_x_list)\n",
    "    dw, db = gradient(pred_y, batch_gt_y_list, batch_x_list)\n",
    "    avg_dw = dw/batch_size\n",
    "    avg_db = db/batch_size\n",
    "    w -= lr * avg_dw\n",
    "    b -= lr * avg_db\n",
    "    return w, b"
   ]
  },
  {
   "cell_type": "code",
   "execution_count": 15,
   "metadata": {},
   "outputs": [],
   "source": [
    "def train(x_list, gt_y_list, batch_size, lr, max_iter):\n",
    "    w = 0\n",
    "    b = 0\n",
    "#     num_samples = len(x_list)\n",
    "    num_samples = x_list.shape[1]\n",
    "    for i in range(max_iter):\n",
    "        batch_idxs = np.random.choice(num_samples, batch_size)\n",
    "        batch_x = x_list[:,batch_idxs]\n",
    "        batch_y = gt_y_list[:,batch_idxs]\n",
    "#         batch_x = [x_list[j] for j in batch_idxs]\n",
    "#         batch_y = [gt_y_list[j] for j in batch_idxs]\n",
    "        w, b = cal_step_gradient(batch_x, batch_y, w, b, lr)\n",
    "#         print('w:{0}, b:{1}'.format(w, b))\n",
    "#         print('loss is {0}'.format(eval_loss(w, b, x_list, gt_y_list)))\n",
    "    return w,b"
   ]
  },
  {
   "cell_type": "code",
   "execution_count": 16,
   "metadata": {},
   "outputs": [],
   "source": [
    "def gen_sample_data():\n",
    "    w = random.randint(0, 10) + random.random()\t\t# for noise random.random[0, 1)\n",
    "    b = random.randint(0, 5) + random.random()\n",
    "    num_samples = 100\n",
    "    x_list = []\n",
    "    y_list = []\n",
    "#     for i in range(num_samples):\n",
    "#         x = random.randint(0, 100) * random.random()\n",
    "#         y = w * x + b + random.random() * random.randint(-1, 1)\n",
    "#         x_list.append(x)\n",
    "#         y_list.append(y)\n",
    "    x_list = np.random.randint(0,100,(1,num_samples))\n",
    "    y_list = w*x_list+b+random.random()*random.randint(-1, 1)\n",
    "    return x_list, y_list, w, b"
   ]
  },
  {
   "cell_type": "code",
   "execution_count": 17,
   "metadata": {},
   "outputs": [],
   "source": [
    "def run():\n",
    "    x_list, y_list, w, b = gen_sample_data()\n",
    "    print('w_origin:',w)\n",
    "    print('b_origin:',b)\n",
    "    lr = 0.0001\n",
    "    max_iter = 1000\n",
    "    w1,b1 = train(x_list, y_list, 50, lr, max_iter)\n",
    "    print('w1:',w1)\n",
    "    print('b1:',b1)"
   ]
  },
  {
   "cell_type": "code",
   "execution_count": null,
   "metadata": {},
   "outputs": [],
   "source": [
    "if __name__ == '__main__':\t# 跑.py的时候，跑main下面的；被导入当模块时，main下面不跑，其他当函数调\n",
    "    run()"
   ]
  },
  {
   "cell_type": "markdown",
   "metadata": {},
   "source": [
    "### 结论\n",
    "\n",
    "对比随机生成的w,b和线性回归估计的w,b可见,w的估计较为精确,而b较差,主要是因为b的梯度值很小,导致b的变化非常缓慢.这主要是因为x的值较大,数据没有进行归一化导致的."
   ]
  }
 ],
 "metadata": {
  "kernelspec": {
   "display_name": "Python 3",
   "language": "python",
   "name": "python3"
  },
  "language_info": {
   "codemirror_mode": {
    "name": "ipython",
    "version": 3
   },
   "file_extension": ".py",
   "mimetype": "text/x-python",
   "name": "python",
   "nbconvert_exporter": "python",
   "pygments_lexer": "ipython3",
   "version": "3.6.8"
  }
 },
 "nbformat": 4,
 "nbformat_minor": 2
}
