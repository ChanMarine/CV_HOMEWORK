{
 "cells": [
  {
   "cell_type": "markdown",
   "metadata": {},
   "source": [
    "### 第三个作业:游泳过河问题"
   ]
  },
  {
   "cell_type": "markdown",
   "metadata": {},
   "source": [
    "1. 根据题目要去,可以得到如下方程:\n",
    "$$\\begin{cases}\n",
    "S_i &= v\\cdot cos\\alpha_i\\cdot t_i\\\\ \n",
    "dh &= \\sum_{i=1}^{n}(v\\cdot sin\\alpha_i+v_i)t_i\\\\\n",
    "T &= \\sum_{i=1}^{n}t_i\\\\\n",
    "\\end{cases}$$\n",
    "其中,$\\alpha_i\\in[0,\\frac{\\pi}{2})$,利用第一个等式求得$t_i$,带入后面两式可得:\n",
    "$$\\begin{cases}\n",
    "dh &= \\sum_{i=1}^{n}(v\\cdot sin\\alpha_i+v_i)\\frac{S_i}{v\\cdot cos\\alpha_i}\\\\\n",
    "T &= \\sum_{i=1}^{n}\\frac{S_i}{v\\cdot cos\\alpha_i}\\\\\n",
    "\\end{cases}$$\n",
    "我们的目的是,求得dh的最大值,同时满足下面T的等式(此处应该也可以设为不等式,即$T\\ge\\sum_{i=1}^{n}\\frac{S_i}{v\\cdot cos\\alpha_i}$,但是后续的求解方法类似,此处以等于为例)."
   ]
  },
  {
   "cell_type": "markdown",
   "metadata": {},
   "source": [
    "2. 对于带有约束的优化问题,我们通常构造拉格朗日函数,然后利用KKT条件进行求解.针对该问题的拉格朗日函数如下:\n",
    "$$f(\\alpha,\\lambda) = \\sum_{i=1}^{n}(v\\cdot sin\\alpha_i+v_i)\\frac{S_i}{v\\cdot cos\\alpha_i} + \\lambda(\\sum_{i=1}^{n}\\frac{S_i}{v\\cdot cos\\alpha_i} - T)$$"
   ]
  },
  {
   "cell_type": "markdown",
   "metadata": {},
   "source": [
    "3. 拉格朗日函数的求解.对于带有等式约束的拉格朗日函数,KKT条件明确如下:\n",
    "$$\\begin{cases}\n",
    "\\frac{\\partial f}{\\partial \\alpha_i} = 0\\\\\n",
    "\\frac{\\partial f}{\\partial \\lambda} = 0\\\\\n",
    "\\end{cases}$$\n",
    "通过上面的n+1个方程,可以求得的$\\alpha_i$和$\\lambda$,使得dh取得极值,至于是极大值还是极小值需要带入进行判断."
   ]
  },
  {
   "cell_type": "markdown",
   "metadata": {},
   "source": [
    "### 一点问题和思考:\n",
    "\n",
    "拉格朗日函数的求解,一般通过对参数求导为零,列方程求解,这种方式得到应该是解析解.是否可以通过梯度下降法求得数值解?\n",
    "\n",
    "比如通过如下迭代:\n",
    "$$\\begin{cases}\n",
    "\\alpha_i &+= lr\\cdot \\frac{\\partial f}{\\partial \\alpha_i}\\\\\n",
    "\\lambda &+= lr\\cdot\\frac{\\partial f}{\\partial \\lambda}\\\\\n",
    "\\end{cases}$$\n",
    "因为,求解的是极大值,所以在迭代过程中是加上的梯度值,而不是减去.\n",
    "\n",
    "但是,上面的梯度下降法求得的是拉格朗日函数的极值,并不是dh的极值."
   ]
  }
 ],
 "metadata": {
  "kernelspec": {
   "display_name": "Python 3",
   "language": "python",
   "name": "python3"
  },
  "language_info": {
   "codemirror_mode": {
    "name": "ipython",
    "version": 3
   },
   "file_extension": ".py",
   "mimetype": "text/x-python",
   "name": "python",
   "nbconvert_exporter": "python",
   "pygments_lexer": "ipython3",
   "version": "3.6.8"
  }
 },
 "nbformat": 4,
 "nbformat_minor": 2
}
