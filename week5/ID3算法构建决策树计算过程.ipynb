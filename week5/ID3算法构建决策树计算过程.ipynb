{
 "cells": [
  {
   "cell_type": "markdown",
   "metadata": {},
   "source": [
    "## slide中的问题如下:\n",
    "\n",
    "<img src=\"列表.png\" style=\"width:400px;height:300px;\">"
   ]
  },
  {
   "cell_type": "markdown",
   "metadata": {},
   "source": [
    "## 采用ID3算法构建决策树的计算过程如下:"
   ]
  },
  {
   "cell_type": "code",
   "execution_count": 2,
   "metadata": {},
   "outputs": [],
   "source": [
    "import math"
   ]
  },
  {
   "cell_type": "code",
   "execution_count": 8,
   "metadata": {},
   "outputs": [],
   "source": [
    "def log2(a,b):\n",
    "    rst = -(a*math.log(a,2)+b*math.log(b,2))\n",
    "    return rst"
   ]
  },
  {
   "cell_type": "markdown",
   "metadata": {},
   "source": [
    "### 1.寻找根节点(slide中已经给出)\n",
    "\n",
    "a. 统计系统输出结果{Y:9,N:5},计算系统熵:    \n",
    "$ H(D) = -(\\frac{9}{14}log\\frac{9}{14}+\\frac{5}{14}log\\frac{5}{14}) = 0.94$    \n",
    "\n",
    "b. Appearance属性对应的结果{Ah:5=3Y+2N,Good:5=2Y+3N,Great:4=4Y},计算属性App对应的条件熵:    \n",
    "$ H(F_{Great})= -(\\frac{4}{4}log\\frac{4}{4}) = 0$    \n",
    "$ H(F_{Good})= -(\\frac{2}{5}log\\frac{2}{5}+\\frac{3}{5}log\\frac{3}{5}) = 0.971$    \n",
    "$ H(F_{Ah})= -(\\frac{3}{5}log\\frac{3}{5}+\\frac{2}{5}log\\frac{2}{5}) = 0.971$\n",
    "\n",
    "$ H(D|F_{App})= -(\\frac{5}{14}H(F_{Great})+\\frac{5}{14}H(F_{Good})+\\frac{4}{14}H(F_{Ah})) = 0.693$\n",
    "\n",
    "c. Income属性对应的结果{Low:4=2Y+2N,Good:6=4Y+2N,Great:4=3Y+1N},计算属性Inc对应的条件熵: \n",
    "$ H(F_{Great})= -(\\frac{3}{4}log\\frac{3}{4}+\\frac{1}{4}log\\frac{1}{4}) = 0.811$\n",
    "$ H(F_{Good})= -(\\frac{4}{6}log\\frac{4}{6}+\\frac{2}{6}log\\frac{2}{6}) = 0.918$\n",
    "$ H(F_{Low})= -(\\frac{2}{4}log\\frac{2}{4}+\\frac{2}{4}log\\frac{2}{4}) = 1$\n",
    "\n",
    "$ H(D|F_{Inc})= -(\\frac{4}{14}H(F_{Great})+\\frac{6}{14}H(F_{Good})+\\frac{4}{14}H(F_{Low})) = 0.911 $\n",
    "\n",
    "d. Age属性对应的结果{Younger:7=6Y+1N,Older:7=3Y+4N},计算属性Age对应的条件熵:\n",
    "$ H(F_{Younger})= -(\\frac{6}{7}log\\frac{6}{7}+\\frac{1}{7}log\\frac{1}{7}) = 0.592$    \n",
    "$ H(F_{Older})= -(\\frac{3}{7}log\\frac{3}{7}+\\frac{4}{7}log\\frac{4}{7}) = 0.985$\n",
    "\n",
    "$ H(D|F_{Age})= -(\\frac{7}{14}H(F_{Younger})+\\frac{7}{14}H(F_{Older})) = 0.789 $\n",
    "\n",
    "e. Profession属性对应的结果{Steady:8=6Y+2N,Unstable:6=3Y+3N},计算属性Pro对应的条件熵:\n",
    "$ H(F_{Steady})= -(\\frac{6}{8}log\\frac{6}{8}+\\frac{2}{8}log\\frac{2}{8}) = 0.811$    \n",
    "$ H(F_{Unstable})= -(\\frac{3}{6}log\\frac{3}{6}+\\frac{3}{6}log\\frac{3}{6}) = 1$\n",
    "\n",
    "$ H(D|F_{Pro})= -(\\frac{8}{14}H(F_{Steady})+\\frac{6}{14}H(F_{Unstable})) = 0.892 $\n",
    "\n",
    "f.计算各属性对应的增量熵:    \n",
    "$G(D|F_{App}) = H(D)-H(D|F_{App}) = 0.94-0.693 = 0.246$    \n",
    "$G(D|F_{Inc}) = H(D)-H(D|F_{Inc}) = 0.94-0.911 = 0.029$    \n",
    "$G(D|F_{Age}) = H(D)-H(D|F_{Age}) = 0.94-0.789 = 0.151$   \n",
    "$G(D|F_{Pro}) = H(D)-H(D|F_{Pro}) = 0.94-0.892 = 0.048$   \n",
    "\n",
    "h. 选择增量熵最大的属性作为根节点,即选择App属性作为根节点."
   ]
  },
  {
   "cell_type": "markdown",
   "metadata": {},
   "source": [
    "### 2.当根节点属性(App = Ah),寻找下一节点\n",
    "a.统计系统输出结果(5 = 3Y+2N),计算系统熵:\n",
    "$H(App) = -(\\frac{3}{5}log\\frac{3}{5}+\\frac{2}{5}log\\frac{2}{5}) = 0.971$\n",
    "\n",
    "b.Income属性对应的结果{Good:3=2Y+1N,Great:2=1Y+1N},计算属性Inc对应的条件熵:\n",
    "$ H(F_{Great})= -(\\frac{1}{2}log\\frac{1}{2}+\\frac{1}{2}log\\frac{1}{2}) = 1$    \n",
    "$ H(F_{Good})= -(\\frac{2}{3}log\\frac{2}{3}+\\frac{1}{3}log\\frac{1}{3}) = 0.918$\n",
    "\n",
    "$ H(App|F_{Inc})= -(\\frac{3}{5}H(F_{Great})+\\frac{2}{5}H(F_{Good}))= 0.967 $\n",
    "\n",
    "c.Age属性对应的结果{Younger:3=2Y+1N,Older:2=1Y+1N},计算属性Age对应的条件熵:\n",
    "$ H(F_{Younger})= -(\\frac{2}{3}log\\frac{2}{3}+\\frac{1}{3}log\\frac{1}{3}) = 0.918$    \n",
    "$ H(F_{Older})= -(\\frac{1}{2}log\\frac{1}{2}+\\frac{1}{2}log\\frac{1}{2}) = 1$\n",
    "\n",
    "$ H(App|F_{Age})= -(\\frac{3}{5}H(F_{Younger})+\\frac{2}{5}H(F_{Older})) = 0.951 $\n",
    "\n",
    "d.Profession属性对应的结果{Steady:3=3Y,Unstable:2=2N},计算属性Pro对应的条件熵:\n",
    "$ H(F_{Steady})= -(\\frac{3}{3}log\\frac{3}{3}) = 0$    \n",
    "$ H(F_{Unstable})= -(\\frac{2}{2}log\\frac{2}{2}) = 0$\n",
    "\n",
    "$ H(App|F_{Pro})= -(\\frac{3}{5}H(F_{Steady})+\\frac{2}{5}H(F_{Unstable})) = 0 $\n",
    "\n",
    "e.计算各属性对应的增量熵:      \n",
    "$G(App|F_{Inc}) = H(App)-H(App|F_{Inc}) = 0.971-0.967 = 0.004$    \n",
    "$G(App|F_{Age}) = H(App)-H(App|F_{Age}) = 0.971-0.951 = 0.02$   \n",
    "$G(App|F_{Pro}) = H(App)-H(App|F_{Pro}) = 0.971-0 = 0.971$ \n",
    "\n",
    "f.选择增量熵最大的Profession属性作为,当根节点属性(App = Ah)时的下一个节点."
   ]
  },
  {
   "cell_type": "markdown",
   "metadata": {},
   "source": [
    "当根节点属性(App = Good)和(App = Great)时的下一个节点,计算方法与步骤2完全相同,为了节约时间,此处不再累述."
   ]
  }
 ],
 "metadata": {
  "kernelspec": {
   "display_name": "Python 3",
   "language": "python",
   "name": "python3"
  },
  "language_info": {
   "codemirror_mode": {
    "name": "ipython",
    "version": 3
   },
   "file_extension": ".py",
   "mimetype": "text/x-python",
   "name": "python",
   "nbconvert_exporter": "python",
   "pygments_lexer": "ipython3",
   "version": "3.6.8"
  }
 },
 "nbformat": 4,
 "nbformat_minor": 2
}
