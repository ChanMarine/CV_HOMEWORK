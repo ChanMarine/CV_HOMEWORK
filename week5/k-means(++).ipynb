{
 "cells": [
  {
   "cell_type": "code",
   "execution_count": 1,
   "metadata": {},
   "outputs": [],
   "source": [
    "import numpy as np\n",
    "import matplotlib.pyplot as plt\n",
    "import matplotlib"
   ]
  },
  {
   "cell_type": "code",
   "execution_count": 2,
   "metadata": {},
   "outputs": [],
   "source": [
    "#产生2维数据点,作为分类的数据\n",
    "def gen2dPoints():\n",
    "    x = np.array([[12, 20, 28, 18, 10, 29, 33, 24, 45, 45, 52, 51, 52, 55, 53, 55, 61, 64, 69, 72, 23],\n",
    "                  [39, 36, 30, 52, 54, 20, 46, 55, 59, 63, 70, 66, 63, 58, 23, 14, 8, 19, 7, 24, 77]])\n",
    "    return x"
   ]
  },
  {
   "cell_type": "code",
   "execution_count": 12,
   "metadata": {},
   "outputs": [],
   "source": [
    "#初始随机得到类心\n",
    "def initCenters(x,k):\n",
    "    xlen = x.shape[1]\n",
    "    idx_centers = np.random.choice(xlen,k,replace = False)\n",
    "    centers = x[:,idx_centers]\n",
    "    return centers"
   ]
  },
  {
   "cell_type": "code",
   "execution_count": 38,
   "metadata": {},
   "outputs": [],
   "source": [
    "#计算与现有的i个类心的最小距离\n",
    "def getMinDistance2(x,centers,k):\n",
    "    xlen = x.shape[1]\n",
    "    distance = np.zeros((k,xlen))\n",
    "    dx2 = np.zeros((1,xlen))\n",
    "    for i in range(k):\n",
    "        distance[i] = np.sum((x-np.expand_dims(centers[:,i],axis = 1))**2,axis = 0)\n",
    "    dx2 = np.min(distance,axis=0,keepdims = True)\n",
    "    return dx2\n",
    "#采用Kmeans++的方式得到初始的k个类心\n",
    "def getCenters(x,k):\n",
    "    xlen = x.shape[1]\n",
    "    centers = np.zeros((2,k))\n",
    "    idx = np.random.choice(xlen)\n",
    "    centers[:,0] = x[:,idx]#随机选择一个样本作为第一个类心\n",
    "    for i in range(1,k):\n",
    "        dx2 = getMinDistance2(x,centers,i)\n",
    "        dx2Sum = np.sum(dx2)\n",
    "        #采用轮盘法得到下一个类心\n",
    "        randk = dx2Sum*np.random.random()\n",
    "        for j in range(xlen):\n",
    "            randk -= dx2[0,j]\n",
    "            if randk<=0:\n",
    "                centers[:,i] = x[:,j]\n",
    "                break\n",
    "    return centers "
   ]
  },
  {
   "cell_type": "code",
   "execution_count": 4,
   "metadata": {},
   "outputs": [],
   "source": [
    "#根据当前类中心,标记样本归属哪个类别\n",
    "def lablePoints(x,centers):\n",
    "    xlen = x.shape[1]\n",
    "    k = centers.shape[1]\n",
    "    lable = np.zeros((1,xlen),dtype = np.uint32)\n",
    "    distance = np.zeros((3,xlen))\n",
    "    for i in range(k):\n",
    "        distance[i,:] = np.sum((x-np.expand_dims(centers[:,i],axis = 1))**2,axis = 0)\n",
    "    for i in range(xlen):\n",
    "        minl2 = distance[0,i]\n",
    "        minid = 0\n",
    "        for j in range(1,k):\n",
    "            if distance[j,i]<minl2:\n",
    "                minl2 = distance[j,i]\n",
    "                minid = j\n",
    "        lable[:,i] = minid\n",
    "    return lable"
   ]
  },
  {
   "cell_type": "code",
   "execution_count": 5,
   "metadata": {},
   "outputs": [],
   "source": [
    "#根据当前样本分类,从新计算类中心\n",
    "def updateCenters(x,lable,k):\n",
    "    centers = np.zeros((x.shape[0],k))\n",
    "    idx = np.squeeze(lable)\n",
    "    x0 = x[:,idx == 0]\n",
    "    x1 = x[:,idx == 1]\n",
    "    x2 = x[:,idx == 2]\n",
    "    centers[:,0] = np.mean(x0,axis = 1)\n",
    "    centers[:,1] = np.mean(x1,axis = 1)\n",
    "    centers[:,2] = np.mean(x2,axis = 1)\n",
    "    return centers"
   ]
  },
  {
   "cell_type": "code",
   "execution_count": 49,
   "metadata": {},
   "outputs": [],
   "source": [
    "#运行k-means算法\n",
    "def runKmeans(x,k,centers):\n",
    "    xlen = x.shape[1]\n",
    "    lable = lablePoints(x,centers)\n",
    "    centersNew = updateCenters(x,lable,k)\n",
    "    while True:\n",
    "        centers = centersNew\n",
    "        lable = lablePoints(x,centers)\n",
    "        centersNew = updateCenters(x,lable,k)\n",
    "        if np.array_equal(centers,centersNew):#当类心不再变化时,迭代结束\n",
    "            break\n",
    "    return lable,centers"
   ]
  },
  {
   "cell_type": "code",
   "execution_count": 88,
   "metadata": {},
   "outputs": [],
   "source": [
    "def main():\n",
    "    k = 3\n",
    "    x = gen2dPoints()\n",
    "    #kmeans算法\n",
    "    initcenters = initCenters(x,k)#随机选择k个不同的样本作为类心\n",
    "    lable,centers = runKmeans(x,k,initcenters)\n",
    "    #绘图\n",
    "    xlen = x.shape[1]\n",
    "    color = np.array(['r' for _ in range(xlen)])\n",
    "    idx = np.squeeze(lable)\n",
    "    color[idx==1] = 'g'\n",
    "    color[idx==2] = 'b'\n",
    "    #画出最终分类结果\n",
    "    plt.scatter(x[0],x[1],c = color)\n",
    "    plt.axis([0,80,0,80])\n",
    "    #画出最初类心,用以和kmeans++进行比较\n",
    "    plt.scatter(initcenters[0,0],initcenters[1,0],c='r',marker='s',linewidths=4)\n",
    "    plt.scatter(initcenters[0,1],initcenters[1,1],c='g',marker='s',linewidths=4)\n",
    "    plt.scatter(initcenters[0,2],initcenters[1,2],c='b',marker='s',linewidths=4)\n",
    "    #画出最终类心,用向上三角表示\n",
    "    plt.scatter(centers[0,0],centers[1,0],c='r',marker='^',linewidths=4)\n",
    "    plt.scatter(centers[0,1],centers[1,1],c='g',marker='^',linewidths=4)\n",
    "    plt.scatter(centers[0,2],centers[1,2],c='b',marker='^',linewidths=4)\n",
    "    plt.show()\n",
    "    \n",
    "    #kmeans++算法\n",
    "    initcenters = getCenters(x,k)#采用Kmeans++改良的方法选择k个不同的样本作为类心\n",
    "    lable2,centers2 = runKmeans(x,k,initcenters)\n",
    "    #绘图\n",
    "    xlen = x.shape[1]\n",
    "    color2 = np.array(['r' for _ in range(xlen)])\n",
    "    idx2 = np.squeeze(lable2)\n",
    "    color2[idx2==1] = 'g'\n",
    "    color2[idx2==2] = 'b'\n",
    "    plt.scatter(x[0],x[1],c = color2)\n",
    "    plt.axis([0,80,0,80])\n",
    "    #画出最初类心,用以和kmeans进行比较\n",
    "    plt.scatter(initcenters[0,0],initcenters[1,0],c='r',marker='s',linewidths=4)\n",
    "    plt.scatter(initcenters[0,1],initcenters[1,1],c='g',marker='s',linewidths=4)\n",
    "    plt.scatter(initcenters[0,2],initcenters[1,2],c='b',marker='s',linewidths=4)\n",
    "    #画出最终类心,用向上三角表示\n",
    "    plt.scatter(centers2[0,0],centers2[1,0],c='r',marker='^',linewidths=4)\n",
    "    plt.scatter(centers2[0,1],centers2[1,1],c='g',marker='^',linewidths=4)\n",
    "    plt.scatter(centers2[0,2],centers2[1,2],c='b',marker='^',linewidths=4)\n",
    "    plt.show()"
   ]
  },
  {
   "cell_type": "code",
   "execution_count": 96,
   "metadata": {},
   "outputs": [
    {
     "data": {
      "image/png": "[encoded data removed]",
      "text/plain": [
       "<Figure size 432x288 with 1 Axes>"
      ]
     },
     "metadata": {
      "needs_background": "light"
     },
     "output_type": "display_data"
    },
    {
     "data": {
      "image/png": "[encoded data removed]",
      "text/plain": [
       "<Figure size 432x288 with 1 Axes>"
      ]
     },
     "metadata": {
      "needs_background": "light"
     },
     "output_type": "display_data"
    }
   ],
   "source": [
    "if __name__ == '__main__':\n",
    "    main()"
   ]
  },
  {
   "cell_type": "markdown",
   "metadata": {},
   "source": [
    "### 结论\n",
    "\n",
    "上面两幅图像中,方形代表初始类心,三角形代表最终的类心.比较可以发现,Kmeans++算法通过距离已有类心越远,被选择作为下一个类心的概率更大的方式选择初始的类心.这种方式相比与kmeans算法一定程度上能够减低由于初始类心选择不当,导致分类结果不理想的情况,但这一问题并没有在Kmeans++中得到根除,由于同样在初始类心选择上包含概率性,导致聚类的结果依然具有不确定性."
   ]
  }
 ],
 "metadata": {
  "kernelspec": {
   "display_name": "Python 3",
   "language": "python",
   "name": "python3"
  },
  "language_info": {
   "codemirror_mode": {
    "name": "ipython",
    "version": 3
   },
   "file_extension": ".py",
   "mimetype": "text/x-python",
   "name": "python",
   "nbconvert_exporter": "python",
   "pygments_lexer": "ipython3",
   "version": "3.6.8"
  }
 },
 "nbformat": 4,
 "nbformat_minor": 2
}
